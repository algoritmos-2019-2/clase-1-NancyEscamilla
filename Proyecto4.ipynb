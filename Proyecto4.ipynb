{
 "cells": [
  {
   "cell_type": "markdown",
   "metadata": {},
   "source": [
    "# El helecho de Barsnsley\n",
    "El helecho de Barsnsley es el resultado de iterar la siguiente función\n",
    "\n",
    "\\begin{equation}\n",
    "   F(x,y)=\\begin{pmatrix} \n",
    "a & b \\\\\n",
    "c & d \n",
    "\\end{pmatrix}\n",
    "\\begin{pmatrix} \n",
    "x  \\\\\n",
    "y  \n",
    "\\end{pmatrix} + \\begin{pmatrix} \n",
    "e \\\\\n",
    "f\n",
    "\\end{pmatrix}\n",
    "\\end{equation}\n",
    "\n",
    "La cual está definida por casos, y estos dependen de un probalidad $p$\n",
    " \n",
    "| $a$ | $b$ |  $c$ | $d$ | $e$ | $f$ |  $p$  |\n",
    "|-----|:---:|-----:|-----|:---:|----:|------:|\n",
    "|  0  |  0  |   0  | 0.16|  0  |  0  |  $0.01$ |\n",
    "| 0.85| 0.04| -0.04| 0.85|  0  | 1.60|$[0.02,0.86]$|\n",
    "| 0.20|-0.26| 0.23 | 0.22|  0  | 1.60|$[0.87,0.93]$|\n",
    "|-0.15| 0.28| 0.26 | 0.24|  0  | 0.44|$[0.94,1.00]$|"
   ]
  },
  {
   "cell_type": "markdown",
   "metadata": {},
   "source": [
    "Usando el objeto ```matrix``` de ```numpy``` defina una llamada ```F(lista1, lista2)``` que reciba justo dos argumentos, el primer debe ser una lista con los variables $x$ y $y$. Y el segundo argumento debe ser una seguda lista con los coeficientes ($a, b, \\dots , e$).\n",
    "\n",
    "La funcion ```F()``` debe de convertir las repesctivas entradas para que se puedan realizar las repectivas operaciones de matrices. "
   ]
  },
  {
   "cell_type": "code",
   "execution_count": null,
   "metadata": {},
   "outputs": [],
   "source": []
  },
  {
   "cell_type": "markdown",
   "metadata": {},
   "source": [
    "Codifique una segunda función llamada ```volado(n)``` de tal manera que asigne los repectivo valores de los coeficientes para casa valor de $p$. "
   ]
  },
  {
   "cell_type": "code",
   "execution_count": null,
   "metadata": {},
   "outputs": [],
   "source": []
  },
  {
   "cell_type": "markdown",
   "metadata": {},
   "source": [
    "Por último para generar el helecho, defina una función ```Barsnsley(n)``` que reciba el número de iteraciones $n$ y regrese dos lista con salidas de la función $F(x,y)$. También tome en cuenta los siguiente:\n",
    "\n",
    "* La primer iteración debe de recibir como entrada de $F(x,y)$ el punto $x=0$ y $y=0$.\n",
    "* En cada iteración de debe generar los coefientes de manera aleatoria, usando la función ```volado(n)```, es decir ```n``` debe ser un numero aleatorio. Para generar números aleatorios puede importar ```randint``` de la paquetería ramdom ```from random import randint```"
   ]
  },
  {
   "cell_type": "code",
   "execution_count": null,
   "metadata": {},
   "outputs": [],
   "source": []
  },
  {
   "cell_type": "markdown",
   "metadata": {},
   "source": [
    "Ahora grafique las salidas de ```Barsnsley``` (xs,ys) para ello importe ```import matplotlib.pyplot as plt``` y grafique usando.\n",
    "```plt.scatter(xs, ys, s = 0.2, edgecolor ='green')```\n",
    "\n",
    "El resultado tiene que la siguiente imagen"
   ]
  },
  {
   "cell_type": "code",
   "execution_count": null,
   "metadata": {},
   "outputs": [],
   "source": [
    "plt.scatter(xs, ys, s = 0.2, edgecolor ='green')"
   ]
  },
  {
   "cell_type": "markdown",
   "metadata": {},
   "source": [
    "<img src=\"helecho.png\"\n",
    "     alt=\"Markdown Monster icon\"\n",
    "     style=\"float: left; margin-right: 10px;\" />"
   ]
  },
  {
   "cell_type": "markdown",
   "metadata": {},
   "source": [
    "¿Qué pasa si ahora usa los siguientes parametros?\n",
    " \n",
    "| $a$ | $b$ |  $c$ | $d$ |  $e$ | $f$ |  $p$  |\n",
    "|-----|:---:|-----:|-----|:----:|----:|------:|\n",
    "|  0  |  0  |   0  | 0.25|  0   |-0.4 |$[0.00,0.02]$|\n",
    "| 0.95|0.005|-0.005| 0.93|-0.002| 0.5 |$[0.03,0.85]$|\n",
    "|0.035| -0.2| 0.16 | 0.04| -0.09| 0.02|$[0.86,0.93]$|\n",
    "|-0.04| 0.2 | 0.16 | 0.04|-0.083| 0.12|$[0.94,1.00]$|"
   ]
  },
  {
   "cell_type": "markdown",
   "metadata": {},
   "source": [
    "Ahora modifique ```Barsnsley``` tal que los datos generados se guarden en una Barsnsley.txt. \n",
    "\n",
    "Define una funcíon ```rotation(theta, vector)``` tal que rote un vector $\\vec{v}$ por un ángulo $\\theta$. Recordemos que las matrices de rotación son de la forma:\n",
    "\n",
    "$$ R(\\theta) = \\begin{pmatrix} \n",
    "\\cos(\\theta) & -\\sin(\\theta) \\\\\n",
    "\\sin(\\theta) & \\cos(\\theta)\n",
    "\\end{pmatrix}$$"
   ]
  },
  {
   "cell_type": "markdown",
   "metadata": {},
   "source": [
    "Con experimento numéricos responda las siguientes:\n",
    "* ¿Cómo tiene que ser $\\theta$ para tener rotaciones en el sentido levógiro?, ¿cómo es el determinate?\n",
    "* ¿Ahora cómo tiene que ser $\\theta$ para que las rotaciones sean en sentido dextrógiro?, ¿cómo es el determinante? "
   ]
  },
  {
   "cell_type": "markdown",
   "metadata": {},
   "source": [
    "Ahora sí, por último implemente una función que le aplique una rotación por una ángulo $\\theta$ a cada elemneto de Barsnsley.txt y grafique el resultado."
   ]
  },
  {
   "cell_type": "code",
   "execution_count": null,
   "metadata": {},
   "outputs": [],
   "source": []
  }
 ],
 "metadata": {
  "kernelspec": {
   "display_name": "Python 3",
   "language": "python",
   "name": "python3"
  },
  "language_info": {
   "codemirror_mode": {
    "name": "ipython",
    "version": 3
   },
   "file_extension": ".py",
   "mimetype": "text/x-python",
   "name": "python",
   "nbconvert_exporter": "python",
   "pygments_lexer": "ipython3",
   "version": "3.6.5"
  }
 },
 "nbformat": 4,
 "nbformat_minor": 2
}
