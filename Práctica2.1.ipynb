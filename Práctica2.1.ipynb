{
 "cells": [
  {
   "cell_type": "markdown",
   "metadata": {},
   "source": [
    "Funciones\n",
    "¿Por qué son ventajosas las funciones para tener en sus programas?\n",
    "Porque se pueden llamar en cualquier parte del código y hacer uso de ellas\n",
    "\n",
    "¿Cuándo se ejecuta el código en una función:cuando se define la función o cuando se llama a la función?\n",
    "El codigo se ejecuta cuando se llama a la funcion que se definio anteriormente y se cumplen las especificaciones\n",
    "\n",
    "¿Qué enunciado crea una función?\n",
    "Se debe poner el comando def seguido del nombre de la función que queremos y dentro de () los argumentos que queremos, ademas de colocar return (argumentos) si queremos que nos devuelva algo dicha función\n",
    "\n",
    "¿Cuál es la diferencia entre una función y una llamada de función?\n",
    "Una función es cuando estas definiendo las variables incluidas en esta y cuando llamas a una función es porque la vas a utilizar en alguna parte del código\n",
    "\n",
    "¿Cuántos ambitos globales hay en un programa de Python?¿Cuántos ambitos locales?\n",
    "Se pueden tener cuantas variables querramos definir, siempre y cuando no tengan el mismo nombre o se formaria un bucle\n",
    "\n",
    "¿Qué sucede con las variables en un ámbito local cuando se devuleve la llamada a la función?\n",
    "No aparecen\n",
    "\n",
    "¿Qué es un valor de retorno?¿Puede un valor de retorno ser parte de una expresión?\n",
    "Un valor de retorno es lo que te regresa cuando llamas a una función y dicho valor esta definido dentro de las caracteristicas y puede ser utilizado como parte de  una expresion\n",
    "\n",
    "Si una función no tiene una declaración de retorno, ¿cuál es el valor de retorno de una llamada a es a función?\n",
    "La misma función\n",
    "\n",
    "¿Cómo puede forzar una variable en una función para referirse a la variable global?\n",
    "Llamando a la variable desde dentro\n",
    "\n",
    "¿Cuál es el tipo de datos de None?\n",
    "Representan un valor vacío, generalmente se utilizan en return\n",
    "\n",
    "¿Qué hace la declaración import random?\n",
    "Llama a una libreria en la que está definida la función random\n",
    "\n",
    "Si tuviera una función llamada randint() en un módulo llamado random,¿cómo lo llamaría despues de iimportar random?\n",
    "Lo llamaría int() dentro de la librería\n",
    "\n",
    "\n",
    "Listas y Tuplas\n",
    "¿Qué es []?\n",
    "Son corchetes que se utilizan para definir valores en una lista\n",
    "\n",
    "¿Cómo asignaría el valor 'hola' como el tercer valor en una lista almacenada? en una variable llamada spam?\n",
    "(Supongamos que el spam contiene [2, 4, 6, 8, 10].Para las siguientes 3 preguntas, digamos que spam contiene la lista [2, 4, 6, 8, 10])\n",
    "Se tendría que poner spam[2]= \"hola\" u spam.insert(2,\"hola\")\n",
    "\n",
    "¿Qué evalua spam[int('3'*2) / 11]?\n",
    "Se está multiplicando el valor del índice 3 por 2...(?)\n",
    "\n",
    "¿Qué evalua spam[-1]?\n",
    "El último termino de la lista\n",
    "\n",
    "¿Qué evalua spam[: 2]?\n",
    "Evalua los elementos de la lista desde el 0 al 2, en este caso 2, 4, 6\n",
    "\n",
    "Para las siguientes 3 preguntas, digamos que bacon contiene la lista [3.14, 'cat', 11, 'cat', True]\n",
    "¿Qué evalua bacon.index('cat')?\n",
    "Te da la posicion en la que está la variable 'cat'\n",
    "\n",
    "¿Qúe evalua bacon.append(99)?\n",
    "Escribe una función en este caso 99\n",
    "\n",
    "¿Qué hace bacon.remove('cat')?\n",
    "LO quita de la lista\n",
    "\n",
    "¿Cuales son los operadores para la concatenacion de listas y la repplicación de listas?\n",
    "Suma y extend()\n",
    "\n",
    "¿Cúal es la diferencia entre los métodos de lista append() e insert()?\n",
    "Con append se pueden llamar funciones e incluso otras listas completas y con insert variables\n",
    "\n",
    "¿Cual es la diferencia entre listas y tuplas?\n",
    "La tupla no tiene métodos y no es mutable(no se puede modificar)\n",
    "\n",
    "\n",
    "Proyecto práctico"
   ]
  },
  {
   "cell_type": "code",
   "execution_count": null,
   "metadata": {},
   "outputs": [],
   "source": []
  },
  {
   "cell_type": "code",
   "execution_count": 8,
   "metadata": {},
   "outputs": [
    {
     "data": {
      "text/plain": [
       "True"
      ]
     },
     "execution_count": 8,
     "metadata": {},
     "output_type": "execute_result"
    }
   ],
   "source": [
    "#Testprime() que verifique si un número es primo\n",
    "#Un número primo es aquel que solo es divisible entre 1 y el mismo\n",
    "\n",
    "def Testprime(n):\n",
    "    i=1\n",
    "    t=0\n",
    "    d=0\n",
    "    while i<n:\n",
    "        i = 1 + i\n",
    "        d = n%i\n",
    "        if d == 0:\n",
    "            t = t + 1\n",
    "        \n",
    "    if t==1:\n",
    "        return True\n",
    "    else:\n",
    "        return False\n",
    "            \n",
    "Testprime(5)\n",
    "        \n",
    "\n",
    "    "
   ]
  },
  {
   "cell_type": "code",
   "execution_count": 15,
   "metadata": {},
   "outputs": [
    {
     "name": "stdout",
     "output_type": "stream",
     "text": [
      "[2, 3, 5, 7, 11, 13]\n"
     ]
    },
    {
     "data": {
      "text/plain": [
       "[2, 3, 5, 7, 11, 13]"
      ]
     },
     "execution_count": 15,
     "metadata": {},
     "output_type": "execute_result"
    }
   ],
   "source": [
    "#Prime() que genere los primos menores o iguales que n que pertenece a los naturales\n",
    "def prime(n):\n",
    "\n",
    "\n",
    "    i = 0\n",
    "    k = []\n",
    "    \n",
    "    \n",
    "    while i<n:\n",
    "        i = i + 1\n",
    "        t = Testprime(i)\n",
    "        if t == True:\n",
    "            k = k + [i]\n",
    "            \n",
    "    print(k)\n",
    "    return(k)\n",
    "\n",
    "prime(13)"
   ]
  },
  {
   "cell_type": "code",
   "execution_count": 17,
   "metadata": {},
   "outputs": [
    {
     "data": {
      "text/plain": [
       "30"
      ]
     },
     "execution_count": 17,
     "metadata": {},
     "output_type": "execute_result"
    }
   ],
   "source": [
    "#mcm() que regrese el mínimo común múltiplo de dos enteros \n",
    "def mcm(m,n):\n",
    "    if m>n:\n",
    "        mayor=m\n",
    "    else:\n",
    "        mayor=n\n",
    "    while(True):\n",
    "        if((mayor % m==0)) and (mayor % n==0):\n",
    "            mcm = mayor\n",
    "            break\n",
    "        mayor += 1\n",
    "    return mcm\n",
    "\n",
    "mcm(5,6)"
   ]
  },
  {
   "cell_type": "code",
   "execution_count": 23,
   "metadata": {},
   "outputs": [
    {
     "data": {
      "text/plain": [
       "7"
      ]
     },
     "execution_count": 23,
     "metadata": {},
     "output_type": "execute_result"
    }
   ],
   "source": [
    "#MCD() que regrese el máximo común divisor de dos enteros\n",
    "def MCD(j,k):\n",
    "    resta=0\n",
    "    while k>0:\n",
    "        resta=k\n",
    "        k= j%k\n",
    "        j= resta\n",
    "    return j\n",
    "MCD(7,49)\n",
    "        "
   ]
  },
  {
   "cell_type": "code",
   "execution_count": null,
   "metadata": {},
   "outputs": [],
   "source": []
  }
 ],
 "metadata": {
  "kernelspec": {
   "display_name": "Python 3",
   "language": "python",
   "name": "python3"
  },
  "language_info": {
   "codemirror_mode": {
    "name": "ipython",
    "version": 3
   },
   "file_extension": ".py",
   "mimetype": "text/x-python",
   "name": "python",
   "nbconvert_exporter": "python",
   "pygments_lexer": "ipython3",
   "version": "3.7.1"
  }
 },
 "nbformat": 4,
 "nbformat_minor": 2
}
