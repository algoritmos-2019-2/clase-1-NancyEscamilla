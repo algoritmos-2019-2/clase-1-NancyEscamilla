{
 "cells": [
  {
   "cell_type": "markdown",
   "metadata": {},
   "source": [
    "En este notebook, revisaremos algunos algoritmos para determinar las raíces de funciones\n",
    "\n",
    "### Métodos Clásicos\n",
    "* Bisección\n",
    "* Método de Newton \n",
    "* Método de la Secante"
   ]
  },
  {
   "cell_type": "markdown",
   "metadata": {},
   "source": [
    "### Bisección\n",
    "\n",
    "En un **bracket** es un intervalo $[a,b]$ que contiene exactamente un cero o mínimos / máximos de interés\n",
    "\n",
    "En el caso de un cero, el corchete debe satisfacer:\n",
    "$$\n",
    "    \\text{sign}(f(a)) \\neq \\text{sign}(f(b)).\n",
    "$$\n",
    "\n",
    "En caso de un máximo o un mínimo necesitamos: \n",
    "$$\n",
    "    \\text{sign}(f'(a)) \\neq \\text{sign}(f'(b))\n",
    "$$"
   ]
  },
  {
   "cell_type": "markdown",
   "metadata": {},
   "source": [
    "**Teorema**:  \n",
    "\n",
    "Sea\n",
    "$$\n",
    "    f(x) \\in C[a,b] \\quad \\text{and} \\quad \\text{sign}(f(a)) \\neq \\text{sign}(f(b))\n",
    "$$\n",
    "\n",
    "entonces existe un número \n",
    "$$\n",
    "    c \\in (a,b) \\quad \\text{s.t.} \\quad f(c) = 0.\n",
    "$$"
   ]
  },
  {
   "cell_type": "markdown",
   "metadata": {},
   "source": [
    "#### Algoritmo de la bisección\n",
    "\n",
    "Dado un corchete $ [a, b] $ y una función $ f (x) $. El método consiste de tres sucesiones ${\\displaystyle a_{n}\\leq p_{n}\\leq b_{n}\\,}$ definidas por las siguientes relaciones:\n",
    "\n",
    "\\begin{equation}\n",
    "p_{n} = \\dfrac{a_n + b_n}{2}, \\quad a_{n+1}={\\begin{cases}a_{n}&{\\mbox{si }}f(a_{n})\\cdot f(p_{n})<0\\\\p_{n}&{\\mbox{si }}f(a_{n})\\cdot f(p_{n})>0\\end{cases}} \\quad  b_{n+1}={\\begin{cases}b_{n}&{\\mbox{si }}f(b_{n})\\cdot f(p_{n})<0\\\\p_{n}&{\\mbox{si }}f(b_{n})\\cdot f(p_{n})>0\\end{cases}}\n",
    "\\end{equation}\n",
    "\n",
    "\n",
    "    \n",
    "A continuación tenemos el psudocódigo para este método\n",
    "\n",
    "**INPUT**: Función ```f```,\n",
    "\n",
    "los extremos de intervalo ```a```, ```b```, \n",
    "       \n",
    "una tolerancia ```TOL```, \n",
    "       \n",
    "el número máximo de iteraciones ```NMAX```\n",
    "       \n",
    "**CONDITIONS**: a < b, \n",
    "\n",
    "ya sea ```f(a) < 0``` y ```f(b) > 0``` o ```f(a) > 0``` y ```f(b) < 0```\n",
    "            \n",
    "**OUTPUT**: valor que difiere de una raíz de $f (x) = 0$ en menos de ```TOL```\n",
    "\n",
    " \n",
    "```N ← 1```\n",
    "\n",
    "**while** ```N ≤ NMAX``` # acota las iteraciones para evitar un bucle infinito\n",
    "\n",
    "```c ← (a + b)/2``` # nuevo punto medio\n",
    "  \n",
    "  **If** ```f(c) = 0 or (b – a)/2 < TOL``` **then** # encontramos la solución\n",
    "  \n",
    "  ```Output(c)```\n",
    "    \n",
    "  **Stop**\n",
    "  \n",
    "  **End If**\n",
    "  \n",
    "  ```N ← N + 1``` # incrementamos el contador\n",
    "  **If** ```sign(f(c)) = sign(f(a))``` **then** ```a ← c``` **else** ```b ← c``` # nuevo intervalo\n",
    "  \n",
    "**EndWhile**\n",
    "```Output(\"Method failed.\") ``` # máximo número de pasos excedido"
   ]
  },
  {
   "cell_type": "markdown",
   "metadata": {},
   "source": [
    "import sys\n",
    "!{sys.executable} -m pip install scipy"
   ]
  },
  {
   "cell_type": "code",
   "execution_count": 1,
   "metadata": {},
   "outputs": [],
   "source": [
    "from numpy import *\n",
    "import matplotlib\n",
    "import matplotlib.pyplot as plt"
   ]
  },
  {
   "cell_type": "code",
   "execution_count": 2,
   "metadata": {},
   "outputs": [],
   "source": [
    "def MyBisection(f, a, b,  TOL= 1e-5, NMAX= 1000):\n",
    "\n",
    "# Initialize loop\n",
    "    delta_x = b - a\n",
    "    c = a + (delta_x/2.0)\n",
    "    fa = f(a)\n",
    "    fb = f(b)\n",
    "    fc = f(c)\n",
    "\n",
    "    # Loop until we reach the TOLERANCE or we take MAX_STEPS\n",
    "    for step in range(1, NMAX + 1):\n",
    "    \n",
    "\n",
    "        # Check tolerance - Could also check the size of delta_x\n",
    "        # We check this first as we have already initialized the values\n",
    "        # in c and f_c\n",
    "        if abs(fc) < TOL:\n",
    "            break\n",
    "\n",
    "        if sign(fa) != sign(fc):\n",
    "            b = c\n",
    "            fb = fc\n",
    "        else:\n",
    "            a = c\n",
    "            fa = fc\n",
    "        delta_x = b - a\n",
    "        c = a + (delta_x/2.0)\n",
    "        fc = f(c)\n",
    "        \n",
    "    if step == NMAX:\n",
    "        print(\"Reached maximum number of steps!\")\n",
    "    else:\n",
    "        print(\"Success!\")\n",
    "        print(\"  x* = %s\" % c)\n",
    "        print(\"  f(x*) = %s\" % f(c))\n",
    "        print(\"  number of steps = %s\" % step)"
   ]
  },
  {
   "cell_type": "code",
   "execution_count": 3,
   "metadata": {},
   "outputs": [],
   "source": [
    "f = lambda x : x**5 - x**2 +1"
   ]
  },
  {
   "cell_type": "code",
   "execution_count": 4,
   "metadata": {},
   "outputs": [
    {
     "name": "stdout",
     "output_type": "stream",
     "text": [
      "Success!\n",
      "  x* = -0.8087310791015625\n",
      "  f(x*) = -1.7978674726748523e-06\n",
      "  number of steps = 19\n"
     ]
    }
   ],
   "source": [
    "MyBisection(f,-3,5)"
   ]
  },
  {
   "cell_type": "markdown",
   "metadata": {},
   "source": [
    "### Método de Newton (Newton-Raphson)\n",
    " \n",
    " Es una de las técnicas numéricas para resolver un problema de búsqueda de raíces $f(x) = 0$ más conocidas y poderosas\n",
    " \n",
    " Supongamos $f \\in \\mathcal{C}^2[a,b]$. Sea $\\bar{x} \\in [a,b]$ una aproximación de $p$ tal que $f'(\\bar{x}) \\neq 0$ y $p- \\bar{x}$ es pequeño. Consideremos el primer polinomio de Taylor para $f(x)$ desarrollamos alrededor de $\\bar{x}$.\n",
    " \n",
    " $$f(x) = f(\\bar{x}) + (x-\\bar{x})f'(\\bar{x}) + \\dfrac{(x- \\bar{x})^2}{2} f''(\\xi)$$\n",
    " \n",
    " donde $\\xi \\in [a,b]$. Dado $f(p) = 0$\n",
    " $$0 = f(\\bar{x}) + (p -\\bar{x})f'(\\bar{x}) + \\dfrac{(p - \\bar{x})^2}{2} f''(\\xi)$$\n",
    " \n",
    " puesto que supusimos $\\vert p - \\bar{x}\\vert$ es muy pequeño, los términmos de orden cuadrados son despreciables.\n",
    " $$ 0 \\approx f(\\bar{x}) +  (p-\\bar{x})f'(\\bar{x})$$\n",
    " \n",
    " Despejando $p$\n",
    " \n",
    " $$p \\approx \\bar{x} - \\dfrac{f(\\bar{x})}{f'(\\bar{x})}$$"
   ]
  },
  {
   "cell_type": "markdown",
   "metadata": {},
   "source": [
    "A continuación tenemos el psudocódigo para este método\n",
    "\n",
    "**INPUT**: Función ```f```,\n",
    "\n",
    "aproximación inicial ```p0```, \n",
    "       \n",
    "una tolerancia ```TOL```, \n",
    "       \n",
    "el número máximo de iteraciones ```NMAX```\n",
    "            \n",
    "**OUTPUT**: valor que difiere de una raíz de $f (x) = 0$ en menos de ```TOL```\n",
    "\n",
    " \n",
    "**step 1**```N ← 1```\n",
    "\n",
    "**step 2** ```while N ≤ NMAX``` # acota las iteraciones para evitar un bucle infinito\n",
    "\n",
    "> **step 3** ```p ← p0 - f(p0)/f'(p0)``` #\n",
    "\n",
    "> **step 4** Si  ```| p - p0 | < TOL``` #  Entonces\n",
    "\n",
    "> **OUTPUT** p\n",
    "\n",
    "> **step 5**```i ← i +1```\n",
    "\n",
    "> **step 6**```p0 ← p```\n",
    "\n",
    "**step 7** ```OUTPUT```\n"
   ]
  },
  {
   "cell_type": "code",
   "execution_count": 5,
   "metadata": {},
   "outputs": [],
   "source": [
    "def MyNewton(f, fp, x_k,  TOL= 1e-5, NMAX= 200):\n",
    "\n",
    "    for n in range(1, NMAX + 1):\n",
    "        x_k = x_k - f(x_k) / fp(x_k)\n",
    "        if abs(f(x_k)) < TOL:\n",
    "            break\n",
    "        \n",
    "    if n == NMAX:\n",
    "        print(\"Reached maximum number of steps!\")\n",
    "    else:\n",
    "        #print(\"Success!\")\n",
    "        #print(\"  x* = %s\" % x_k)\n",
    "        #print(\"  f(x*) = %s\" % f(x_k))\n",
    "        #print(\"  number of steps = %s\" % n)\n",
    "        return x_k"
   ]
  },
  {
   "cell_type": "code",
   "execution_count": 6,
   "metadata": {},
   "outputs": [],
   "source": [
    "fp = lambda x : 5*x**4 - 2*x"
   ]
  },
  {
   "cell_type": "code",
   "execution_count": 7,
   "metadata": {},
   "outputs": [
    {
     "data": {
      "text/plain": [
       "-0.8087306005219113"
      ]
     },
     "execution_count": 7,
     "metadata": {},
     "output_type": "execute_result"
    }
   ],
   "source": [
    "MyNewton(f,fp,-3)"
   ]
  },
  {
   "cell_type": "markdown",
   "metadata": {},
   "source": [
    "### Cuencas de atracción\n",
    "\n",
    "Dado un punto $ x_0 $, ¿podemos determinar si Newton-Raphson converge?\n",
    "\n",
    "Una *cuenca de atracción* $ X $ para los métodos de Newton se define como el conjunto tal que $ \\forall x \\in X $ Newton iterations converge. Desafortunadamente, esto está lejos de ser algo trivial para determinar e incluso para funciones simples pueden conducir a regiones que son fractales.\n",
    "\n",
    "A continuación se presentan dos ecuaciones bastante simples que demuestran el problema:\n",
    "1. $ f (x) = x ^ 3 - 1 $\n",
    "2. La ecuación de Kepler $ \\theta - e \\sin \\theta = M $"
   ]
  },
  {
   "cell_type": "code",
   "execution_count": 8,
   "metadata": {},
   "outputs": [
    {
     "data": {
      "text/plain": [
       "array([[0., 0.],\n",
       "       [0., 0.],\n",
       "       [0., 0.]])"
      ]
     },
     "execution_count": 8,
     "metadata": {},
     "output_type": "execute_result"
    }
   ],
   "source": [
    "zeros(6).reshape((3, 2))"
   ]
  },
  {
   "cell_type": "code",
   "execution_count": 9,
   "metadata": {},
   "outputs": [],
   "source": [
    "g = lambda x : x**3 - 1\n",
    "gp = lambda x : 3*x**2\n",
    "\n",
    "x0s =  arange(-2,2,0.002)\n",
    "\n",
    "count = 0\n",
    "z0s = zeros(len(x0s)*len(x0s))\n",
    "\n",
    "for i in x0s:\n",
    "    for j in x0s:\n",
    "        \n",
    "        x0 =  i + j*1j \n",
    "        #print(x0)\n",
    "        z0 = MyNewton(g, gp, x0)\n",
    "        z0s[count] = z0.real + z0.imag\n",
    "        count +=1\n",
    "\n",
    "\n"
   ]
  },
  {
   "cell_type": "code",
   "execution_count": 10,
   "metadata": {},
   "outputs": [
    {
     "data": {
      "image/png": "[encoded data removed]",
      "text/plain": [
       "<Figure size 504x504 with 1 Axes>"
      ]
     },
     "metadata": {
      "needs_background": "light"
     },
     "output_type": "display_data"
    }
   ],
   "source": [
    "harvest = z0s.reshape((len(x0s), len(x0s)))\n",
    "\n",
    "\n",
    "fig, ax = plt.subplots(figsize=(7, 7))\n",
    "im = ax.imshow(harvest)\n",
    "plt.show()"
   ]
  },
  {
   "cell_type": "code",
   "execution_count": 11,
   "metadata": {},
   "outputs": [
    {
     "data": {
      "image/png": "[encoded data removed]",
      "text/plain": [
       "<Figure size 504x504 with 1 Axes>"
      ]
     },
     "metadata": {
      "needs_background": "light"
     },
     "output_type": "display_data"
    }
   ],
   "source": [
    "fig, ax = plt.subplots(figsize=(7, 7))\n",
    "im = ax.imshow(harvest)\n",
    "plt.xlim(800,1200)\n",
    "plt.ylim(800,1200)\n",
    "plt.show()"
   ]
  },
  {
   "cell_type": "markdown",
   "metadata": {},
   "source": [
    "!pip3 install --upgrade\n",
    "!pip3 install sympy "
   ]
  },
  {
   "cell_type": "code",
   "execution_count": 12,
   "metadata": {},
   "outputs": [],
   "source": [
    "from sympy import *"
   ]
  },
  {
   "cell_type": "code",
   "execution_count": 13,
   "metadata": {},
   "outputs": [],
   "source": [
    "x ,y ,z = symbols('x y z')"
   ]
  },
  {
   "cell_type": "code",
   "execution_count": 15,
   "metadata": {},
   "outputs": [
    {
     "data": {
      "text/plain": [
       "sympy.core.symbol.Symbol"
      ]
     },
     "execution_count": 15,
     "metadata": {},
     "output_type": "execute_result"
    }
   ],
   "source": [
    "type(x)"
   ]
  },
  {
   "cell_type": "code",
   "execution_count": 24,
   "metadata": {},
   "outputs": [],
   "source": [
    "fx = sin(x) "
   ]
  },
  {
   "cell_type": "code",
   "execution_count": 25,
   "metadata": {},
   "outputs": [
    {
     "data": {
      "text/plain": [
       "sin(x)"
      ]
     },
     "execution_count": 25,
     "metadata": {},
     "output_type": "execute_result"
    }
   ],
   "source": [
    "fx"
   ]
  },
  {
   "cell_type": "code",
   "execution_count": 30,
   "metadata": {},
   "outputs": [],
   "source": [
    "fxx=diff(fx,x,4)"
   ]
  },
  {
   "cell_type": "code",
   "execution_count": 40,
   "metadata": {},
   "outputs": [
    {
     "data": {
      "text/plain": [
       "0"
      ]
     },
     "execution_count": 40,
     "metadata": {},
     "output_type": "execute_result"
    }
   ],
   "source": [
    "fxx.subs(x,pi/2)"
   ]
  },
  {
   "cell_type": "code",
   "execution_count": null,
   "metadata": {},
   "outputs": [],
   "source": [
    "from scipy import optimize"
   ]
  },
  {
   "cell_type": "code",
   "execution_count": null,
   "metadata": {},
   "outputs": [],
   "source": [
    "optimize.newton(g, 1.5, fprime=lambda x: 3 * x**2)"
   ]
  },
  {
   "cell_type": "code",
   "execution_count": null,
   "metadata": {},
   "outputs": [],
   "source": []
  },
  {
   "cell_type": "code",
   "execution_count": null,
   "metadata": {},
   "outputs": [],
   "source": [
    "from sympy import *"
   ]
  },
  {
   "cell_type": "code",
   "execution_count": null,
   "metadata": {},
   "outputs": [],
   "source": [
    "x = arange(-30.5, -29.5, 0.001)\n",
    "y = arange(-17.5, -16.5, 0.001)\n",
    "\n",
    "\n",
    "count = 0\n",
    "zz0s = zeros(len(x)*len(y))\n",
    "for i in x:\n",
    "    for j in y:\n",
    "        \n",
    "        x0 =  i + j*1j \n",
    "        #z0 = optimize.newton(h, x0, fprime=lambda x: 1 - 0.083*cos(x))\n",
    "        z0 = MyNewton(h, hp, x0,1e-5, 30)\n",
    "        zz0s[count] = z0.real + z0.imag\n",
    "        count +=1"
   ]
  },
  {
   "cell_type": "code",
   "execution_count": null,
   "metadata": {},
   "outputs": [],
   "source": [
    "harvest = zz0s.reshape((len(x), len(y)))\n",
    "\n",
    "\n",
    "fig, ax = plt.subplots()\n",
    "im = ax.imshow(harvest)\n",
    "\n",
    "plt.show()"
   ]
  },
  {
   "cell_type": "markdown",
   "metadata": {},
   "source": [
    "### Método de la secante\n",
    "\n",
    "Este método proporciona una solución a $f(x)=0$ dada aproximaciones inicales $p_0$ y $p_1$. El algoritmo se muestra a continuación"
   ]
  },
  {
   "cell_type": "markdown",
   "metadata": {},
   "source": [
    "A continuación tenemos el psudocódigo para este método\n",
    "\n",
    "**INPUT**: Función ```f```,\n",
    "\n",
    "aproximación inicaales ```p0``` y ```p1```, \n",
    "       \n",
    "una tolerancia ```TOL```, \n",
    "       \n",
    "el número máximo de iteraciones ```NMAX```\n",
    "            \n",
    "**OUTPUT**: valor que difiere de una raíz de $f (x) = 0$ en menos de ```TOL```\n",
    "\n",
    " \n",
    "**step 1**```N ← 1```\n",
    "> ```q0 ← f(p0)```\n",
    "\n",
    "> ```q1 ← f(p1)```\n",
    "\n",
    "\n",
    "**step 2** ```while N ≤ NMAX``` hacer paso 3-6# acota las iteraciones para evitar un bucle infinito\n",
    "\n",
    "> **step 3** ```p ← p1 - q1(p1 - p0))/(q1 - q0)``` #\n",
    "\n",
    "> **step 4** Si  ```| p - p1 | < TOL``` #  Entonces\n",
    "\n",
    "> **OUTPUT** p\n",
    "\n",
    "> **step 5**```i ← i +1```\n",
    "\n",
    "> **step 6**```p0 ← p1```, ```q0 ← q1```, ```p1 ← p0``` y ```q1 ← f(p)``` \n",
    "\n",
    "**step 7** ```OUTPUT```\n",
    "\n"
   ]
  },
  {
   "cell_type": "code",
   "execution_count": null,
   "metadata": {},
   "outputs": [],
   "source": []
  }
 ],
 "metadata": {
  "kernelspec": {
   "display_name": "Python 3",
   "language": "python",
   "name": "python3"
  },
  "language_info": {
   "codemirror_mode": {
    "name": "ipython",
    "version": 3
   },
   "file_extension": ".py",
   "mimetype": "text/x-python",
   "name": "python",
   "nbconvert_exporter": "python",
   "pygments_lexer": "ipython3",
   "version": "3.6.5"
  }
 },
 "nbformat": 4,
 "nbformat_minor": 2
}
