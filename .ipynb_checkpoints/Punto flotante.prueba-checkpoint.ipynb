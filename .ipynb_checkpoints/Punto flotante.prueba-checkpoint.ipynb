{
 "cells": [
  {
   "cell_type": "code",
   "execution_count": null,
   "metadata": {},
   "outputs": [],
   "source": [
    "%matplotlib inline\n",
    "from numpy import *\n",
    "import matplotlib.pyplot as plt "
   ]
  },
  {
   "cell_type": "code",
   "execution_count": null,
   "metadata": {},
   "outputs": [],
   "source": [
    "d0_vales = [1,2,3,4,5,6,7,8,9]\n",
    "dl_vales = [0,1,2,3,4,5,6,7,8,9]\n",
    "base = 10\n",
    "E_vales = [-2,-1,0]\n",
    "\n",
    "floatnumbers = [0]\n",
    "\n",
    "for E in E_vales:\n",
    "    for d0 in d0_vales:\n",
    "        for dl in dl_vales:\n",
    "            floatnumbers.append((d0 + dl/base)*base**E)\n",
    "            floatnumbers.append(-1.0*((d0 + dl/base)*base**E))"
   ]
  }
 ],
 "metadata": {
  "kernelspec": {
   "display_name": "Python 3",
   "language": "python",
   "name": "python3"
  },
  "language_info": {
   "codemirror_mode": {
    "name": "ipython",
    "version": 3
   },
   "file_extension": ".py",
   "mimetype": "text/x-python",
   "name": "python",
   "nbconvert_exporter": "python",
   "pygments_lexer": "ipython3",
   "version": "3.7.1"
  }
 },
 "nbformat": 4,
 "nbformat_minor": 2
}
