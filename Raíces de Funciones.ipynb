{
 "cells": [
  {
   "cell_type": "markdown",
   "metadata": {},
   "source": [
    "En este notebook, revisaremos algunos algoritmos para determinar las raícesde funciones\n",
    "\n",
    "### Métodos Clásicos\n",
    "* Bisección\n",
    "* Método de Newton \n",
    "* Método de la Secantes\n",
    " \n",
    "### Combined Methods\n",
    "- RootSafe (Newton + Bisección)\n",
    "- Método de Brent (Secanet + Bisección)"
   ]
  },
  {
   "cell_type": "markdown",
   "metadata": {},
   "source": [
    "### Bisection\n",
    "\n",
    "En un **bracket** es un intervalo $[a,b]$ que contiene exactamente un cero o mínimos / máximos de interés\n",
    "\n",
    "En el caso de un cero, el corchete debe satisfacer:\n",
    "$$\n",
    "    \\text{sign}(f(a)) \\neq \\text{sign}(f(b)).\n",
    "$$\n",
    "\n",
    "En caso de un máximo o un mínimo necesitamos: \n",
    "$$\n",
    "    \\text{sign}(f'(a)) \\neq \\text{sign}(f'(b))\n",
    "$$"
   ]
  },
  {
   "cell_type": "markdown",
   "metadata": {},
   "source": [
    "**Teorema**:  \n",
    "\n",
    "Sea\n",
    "$$\n",
    "    f(x) \\in C[a,b] \\quad \\text{and} \\quad \\text{sign}(f(a)) \\neq \\text{sign}(f(b))\n",
    "$$\n",
    "\n",
    "entonces existe un número \n",
    "$$\n",
    "    c \\in (a,b) \\quad \\text{s.t.} \\quad f(c) = 0.\n",
    "$$"
   ]
  },
  {
   "cell_type": "markdown",
   "metadata": {},
   "source": [
    "#### Algoritmo de la bisección\n",
    "\n",
    "Dado un corchete $ [a, b] $ y una función $ f (x) $\n",
    "1. Inicializar con corchete\n",
    "2. Iterar\n",
    "    1. Parta el soporte por la mitad y verifique dónde está el cero\n",
    "    2. Establezca el soporte en un nuevo soporte según la dirección que tomamos"
   ]
  },
  {
   "cell_type": "code",
   "execution_count": null,
   "metadata": {},
   "outputs": [],
   "source": []
  },
  {
   "cell_type": "markdown",
   "metadata": {},
   "source": [
    "### Método de Newton (Newton-Raphson)\n",
    "  - Dado un bracket, se garantiza que la bisección converge linealmente a una raíz\n",
    "  - Sin embargo, la bisección casi no usa información sobre $ f (x) $ más allá de su signo en un punto\n",
    " \n",
    "**Idea básica**: Dado que $ f (x) $ y $ f '(x) $ usa una aproximación lineal a $ f (x) $ \"localmente\" y usa la intersección x de la línea resultante para predecir dónde $ x ^ * $ podría ser."
   ]
  },
  {
   "cell_type": "code",
   "execution_count": null,
   "metadata": {},
   "outputs": [],
   "source": []
  },
  {
   "cell_type": "code",
   "execution_count": null,
   "metadata": {},
   "outputs": [],
   "source": []
  },
  {
   "cell_type": "code",
   "execution_count": null,
   "metadata": {},
   "outputs": [],
   "source": []
  },
  {
   "cell_type": "code",
   "execution_count": null,
   "metadata": {},
   "outputs": [],
   "source": []
  }
 ],
 "metadata": {
  "kernelspec": {
   "display_name": "Python 3",
   "language": "python",
   "name": "python3"
  },
  "language_info": {
   "codemirror_mode": {
    "name": "ipython",
    "version": 3
   },
   "file_extension": ".py",
   "mimetype": "text/x-python",
   "name": "python",
   "nbconvert_exporter": "python",
   "pygments_lexer": "ipython3",
   "version": "3.6.5"
  }
 },
 "nbformat": 4,
 "nbformat_minor": 2
}
