Funciones
¿Por qué son ventajosas las funciones para tener en sus programas? 
Porque se pueden llamar en cualquier parte del código y hacer uso de ellas

¿Cuándo se ejecuta el código en una función:cuando se define la función o cuando se llama a la función?
El codigo se ejecuta cuando se llama a la funcion que se definio anteriormente y se cumplen las especificaciones

¿Qué enunciado crea una función? 
Se debe poner el comando def seguido del nombre de la función que queremos y dentro de () los argumentos que queremos, ademas de colocar return (argumentos) si queremos que nos devuelva algo dicha función

¿Cuál es la diferencia entre una función y una llamada de función?
Una función es cuando estas definiendo las variables incluidas en esta y cuando llamas a una función es porque la vas a utilizar en alguna parte del código

¿Cuántos ambitos globales hay en un programa de Python?¿Cuántos ambitos locales?
Se pueden tener cuantas variables querramos definir, siempre y cuando no tenagn el mismo nombre o se formaria un bucle 

¿Qué sucede con las variables en un ámbito local cuando se devuleve la llamada a la función?
No aparecen

¿Qué es un valor de retorno?¿Puede un valor de retorno ser parte de una expresión?
Un valor de retorno es lo que te regresa cuando llamas a una función y dicho valor esta definido dentro de las caracteristicas y puede ser utilizado como parte de  una expresion 

Si una función no tiene una declaración de retorno, ¿cuál es el valor de retorno de una llamada a es a función?
La misma función 

¿Cómo puede forzar una variable en una función para referirse a la variable global?
Llamando a la variable desde dentro 

¿Cuál es el tipo de datos de None? 
Representan un valor vacío, generalmente se utilizan en return

¿Qué hace la declaración import random?
Llama a una libreria en la que está definida la función random

Si tuviera una función llamada randint() en un módulo llamado random,¿cómo lo llamaría despues de iimportar random?
Lo llamaría int() dentro de la librería


Listas y Tuplas
¿Qué es []?
Son corchetes que se utilizan para definir valores en una lista

¿Cómo asignaría el valor 'hola' como el tercer valor en una lista almacenada? en una variable llamada spam?
(Supongamos que el spam contiene [2, 4, 6, 8, 10].Para las siguientes 3 preguntas, digamos que spam contiene la lista [2, 4, 6, 8, 10])
Se tendría que poner spam[2]= "hola" u spam.insert(2,"hola")

¿Qué evalua spam[int('3'*2) / 11]?
Se está multiplicando el valor del índice 3 por 2...(?)

¿Qué evalua spam[-1]?
El último termino de la lista

¿Qué evalua spam[: 2]?
Evalua los elementos de la lista desde el 0 al 2, en este caso 2, 4, 6

Para las siguientes 3 preguntas, digamos que bacon contiene la lista [3.14, 'cat', 11, 'cat', True]
¿Qué evalua bacon.index('cat')?
Te da la posicion en la que está la variable 'cat'

¿Qúe evalua bacon.append(99)?
Escribe una función en este caso 99

¿Qué hace bacon.remove('cat')?
LO quita de la lista

¿Cuales son los operadores para la concatenacion de listas y la repplicación de listas? 
Suma y extend()

¿Cúal es la diferencia entre los métodos de lista append() e insert()?
Con append se pueden llamar funciones e incluso otras listas completas y con insert variables

¿Cual es la diferencia entre listas y tuplas?
La tupla no tiene métodos y no es mutable(no se puede modificar)


Proyecto Práctico:
-testprime() que verifique si un número es primo
#Un número primo es aquel que solo es divisible entre 1 y el mismo
def testprime(n)
  int num1
   a==
    for(i=n...
